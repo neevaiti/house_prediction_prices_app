{
 "cells": [
  {
   "cell_type": "code",
   "execution_count": 30,
   "metadata": {
    "pycharm": {
     "is_executing": true
    }
   },
   "outputs": [],
   "source": [
    "import pandas as pd\n",
    "import pickle\n",
    "from sklearn.pipeline import Pipeline\n",
    "from sklearn.compose import ColumnTransformer\n",
    "from sklearn.preprocessing import StandardScaler, OneHotEncoder, MinMaxScaler\n",
    "from sklearn.neighbors import KNeighborsRegressor\n",
    "from sklearn.model_selection import train_test_split\n",
    "\n",
    "df = pd.read_csv('house_cleaned_datas.csv')\n",
    "\n",
    "\n",
    "\n",
    "# Features\n",
    "numeric_features = ['bedrooms', 'bathrooms', 'sqft_living', 'sqft_lot', 'floors', 'sqft_above', 'sqft_basement', 'yr_built', 'yr_renovated', 'grade', 'waterfront', 'condition']\n",
    "categorical_features = ['zipcode']\n",
    "\n",
    "# Transformers\n",
    "numeric_transformer = StandardScaler()\n",
    "categorical_transformer = OneHotEncoder(handle_unknown='ignore')\n",
    "\n",
    "# Pre-processing\n",
    "preprocessor = ColumnTransformer(\n",
    "    transformers=[\n",
    "        ('num', numeric_transformer, numeric_features),\n",
    "        ('cat', categorical_transformer, categorical_features),\n",
    "    ])\n",
    "\n",
    "# Définition du Pipeline\n",
    "pipeline = Pipeline(steps=[('preprocessor', preprocessor),\n",
    "                           ('regressor', KNeighborsRegressor(n_neighbors=5))])\n",
    "\n",
    "X = df.drop(['price', 'lat', 'long', 'date', 'sqft_living15', 'sqft_lot15', 'view'], axis=1)\n",
    "y = df['price'].values  # transformation de y en array\n",
    "\n",
    "# Entraînement du modèle\n",
    "X_train, X_test, y_train, y_test = train_test_split(X, y, test_size=0.2, random_state=42)\n",
    "\n",
    "# On laisse une parti du pipeline en entraînement\n",
    "pipeline.fit(X_train, y_train)\n",
    "\n",
    "# On passe l'étape de la prédiction aux tests\n",
    "y_pred = pipeline.predict(X_test)"
   ]
  },
  {
   "cell_type": "code",
   "execution_count": 31,
   "metadata": {},
   "outputs": [
    {
     "name": "stdout",
     "output_type": "stream",
     "text": [
      "Prix prédit : 404700.0\n",
      "Prix réel : 365000.0\n"
     ]
    }
   ],
   "source": [
    "observation = X_test[:1]\n",
    "prix_pred = pipeline.predict(observation)\n",
    "print(\"Prix prédit :\", prix_pred[0])\n",
    "print(\"Prix réel :\", y_test[0])"
   ]
  },
  {
   "cell_type": "code",
   "execution_count": 25,
   "metadata": {},
   "outputs": [],
   "source": [
    "with open('knn_model.pkl', 'wb') as f:\n",
    "    pickle.dump(pipeline, f)"
   ]
  }
 ],
 "metadata": {
  "kernelspec": {
   "display_name": "Python 3 (ipykernel)",
   "language": "python",
   "name": "python3"
  },
  "language_info": {
   "codemirror_mode": {
    "name": "ipython",
    "version": 3
   },
   "file_extension": ".py",
   "mimetype": "text/x-python",
   "name": "python",
   "nbconvert_exporter": "python",
   "pygments_lexer": "ipython3",
   "version": "3.10.8"
  }
 },
 "nbformat": 4,
 "nbformat_minor": 1
}
