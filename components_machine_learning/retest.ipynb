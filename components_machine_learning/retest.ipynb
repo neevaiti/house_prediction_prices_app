{
 "cells": [
  {
   "cell_type": "code",
   "execution_count": null,
   "outputs": [],
   "source": [
    "import pandas as pd\n",
    "import pickle\n",
    "from sklearn.pipeline import Pipeline\n",
    "from sklearn.compose import ColumnTransformer\n",
    "from sklearn.preprocessing import StandardScaler, OneHotEncoder, MinMaxScaler\n",
    "from sklearn.neighbors import KNeighborsRegressor\n",
    "from sklearn.model_selection import train_test_split\n",
    "\n",
    "df = pd.read_csv('../components_machine_learning/house_cleaned_datas.csv')\n",
    "\n",
    "\n",
    "# Features\n",
    "numeric_features = ['bedrooms', 'bathrooms', 'sqft_living', 'sqft_lot', 'sqft_living15', 'sqft_lot15', 'floors', 'sqft_above', 'sqft_basement', 'yr_built', 'yr_renovated', 'grade', 'view', 'waterfront', 'condition']\n",
    "categorical_features = ['zipcode']\n",
    "\n",
    "\n",
    "# Transformers\n",
    "numeric_transformer = StandardScaler()\n",
    "categorical_transformer = OneHotEncoder()\n",
    "\n",
    "# Pre-processing\n",
    "preprocessor = ColumnTransformer(\n",
    "    transformers=[\n",
    "        ('num', numeric_transformer, numeric_features),\n",
    "        ('cat', categorical_transformer, categorical_features),\n",
    "    ])\n",
    "\n",
    "# Définition du Pipeline\n",
    "pipeline = Pipeline(steps=[('preprocessor', preprocessor),\n",
    "                           ('regressor', KNeighborsRegressor(n_neighbors=5))])\n",
    "\n",
    "X = df.drop(['price', 'lat', 'long', 'date'], axis=1)\n",
    "y = df['price']\n",
    "\n",
    "# Entraînement du modèle\n",
    "X_train, X_test, y_train, y_test = train_test_split(X, y, test_size=0.2, random_state=42)\n",
    "\n",
    "# On laisse une parti du pipeline en entraînement\n",
    "pipeline.fit(X_train, y_train)\n",
    "\n",
    "# On passe l'étape de la prédiction aux tests\n",
    "y_pred = pipeline.predict(X_test)\n",
    "\n",
    "# Affichage d'un score\n",
    "score = pipeline.score(X_test, y_test)\n",
    "print(score)\n",
    "print(\"Score: {:.2%}\".format(score))"
   ],
   "metadata": {
    "collapsed": false,
    "pycharm": {
     "is_executing": true
    }
   }
  },
  {
   "cell_type": "code",
   "execution_count": null,
   "outputs": [],
   "source": [],
   "metadata": {
    "collapsed": false
   }
  }
 ],
 "metadata": {
  "kernelspec": {
   "display_name": "Python 3",
   "language": "python",
   "name": "python3"
  },
  "language_info": {
   "codemirror_mode": {
    "name": "ipython",
    "version": 2
   },
   "file_extension": ".py",
   "mimetype": "text/x-python",
   "name": "python",
   "nbconvert_exporter": "python",
   "pygments_lexer": "ipython2",
   "version": "2.7.6"
  }
 },
 "nbformat": 4,
 "nbformat_minor": 0
}
