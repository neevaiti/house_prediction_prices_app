{
 "cells": [
  {
   "cell_type": "markdown",
   "source": [
    "# Clean datas csv"
   ],
   "metadata": {
    "collapsed": false
   }
  },
  {
   "cell_type": "code",
   "execution_count": 5,
   "metadata": {
    "collapsed": true
   },
   "outputs": [
    {
     "data": {
      "text/plain": "           id             date     price  bedrooms  bathrooms  sqft_living  \\\n0  7129300520  20141013T000000  221900.0         3       1.00         1180   \n1  6414100192  20141209T000000  538000.0         3       2.25         2570   \n2  5631500400  20150225T000000  180000.0         2       1.00          770   \n3  2487200875  20141209T000000  604000.0         4       3.00         1960   \n4  1954400510  20150218T000000  510000.0         3       2.00         1680   \n\n   sqft_lot  floors  waterfront  view  ...  grade  sqft_above  sqft_basement  \\\n0      5650     1.0           0     0  ...      7        1180              0   \n1      7242     2.0           0     0  ...      7        2170            400   \n2     10000     1.0           0     0  ...      6         770              0   \n3      5000     1.0           0     0  ...      7        1050            910   \n4      8080     1.0           0     0  ...      8        1680              0   \n\n   yr_built  yr_renovated  zipcode      lat     long  sqft_living15  \\\n0      1955             0    98178  47.5112 -122.257           1340   \n1      1951          1991    98125  47.7210 -122.319           1690   \n2      1933             0    98028  47.7379 -122.233           2720   \n3      1965             0    98136  47.5208 -122.393           1360   \n4      1987             0    98074  47.6168 -122.045           1800   \n\n   sqft_lot15  \n0        5650  \n1        7639  \n2        8062  \n3        5000  \n4        7503  \n\n[5 rows x 21 columns]",
      "text/html": "<div>\n<style scoped>\n    .dataframe tbody tr th:only-of-type {\n        vertical-align: middle;\n    }\n\n    .dataframe tbody tr th {\n        vertical-align: top;\n    }\n\n    .dataframe thead th {\n        text-align: right;\n    }\n</style>\n<table border=\"1\" class=\"dataframe\">\n  <thead>\n    <tr style=\"text-align: right;\">\n      <th></th>\n      <th>id</th>\n      <th>date</th>\n      <th>price</th>\n      <th>bedrooms</th>\n      <th>bathrooms</th>\n      <th>sqft_living</th>\n      <th>sqft_lot</th>\n      <th>floors</th>\n      <th>waterfront</th>\n      <th>view</th>\n      <th>...</th>\n      <th>grade</th>\n      <th>sqft_above</th>\n      <th>sqft_basement</th>\n      <th>yr_built</th>\n      <th>yr_renovated</th>\n      <th>zipcode</th>\n      <th>lat</th>\n      <th>long</th>\n      <th>sqft_living15</th>\n      <th>sqft_lot15</th>\n    </tr>\n  </thead>\n  <tbody>\n    <tr>\n      <th>0</th>\n      <td>7129300520</td>\n      <td>20141013T000000</td>\n      <td>221900.0</td>\n      <td>3</td>\n      <td>1.00</td>\n      <td>1180</td>\n      <td>5650</td>\n      <td>1.0</td>\n      <td>0</td>\n      <td>0</td>\n      <td>...</td>\n      <td>7</td>\n      <td>1180</td>\n      <td>0</td>\n      <td>1955</td>\n      <td>0</td>\n      <td>98178</td>\n      <td>47.5112</td>\n      <td>-122.257</td>\n      <td>1340</td>\n      <td>5650</td>\n    </tr>\n    <tr>\n      <th>1</th>\n      <td>6414100192</td>\n      <td>20141209T000000</td>\n      <td>538000.0</td>\n      <td>3</td>\n      <td>2.25</td>\n      <td>2570</td>\n      <td>7242</td>\n      <td>2.0</td>\n      <td>0</td>\n      <td>0</td>\n      <td>...</td>\n      <td>7</td>\n      <td>2170</td>\n      <td>400</td>\n      <td>1951</td>\n      <td>1991</td>\n      <td>98125</td>\n      <td>47.7210</td>\n      <td>-122.319</td>\n      <td>1690</td>\n      <td>7639</td>\n    </tr>\n    <tr>\n      <th>2</th>\n      <td>5631500400</td>\n      <td>20150225T000000</td>\n      <td>180000.0</td>\n      <td>2</td>\n      <td>1.00</td>\n      <td>770</td>\n      <td>10000</td>\n      <td>1.0</td>\n      <td>0</td>\n      <td>0</td>\n      <td>...</td>\n      <td>6</td>\n      <td>770</td>\n      <td>0</td>\n      <td>1933</td>\n      <td>0</td>\n      <td>98028</td>\n      <td>47.7379</td>\n      <td>-122.233</td>\n      <td>2720</td>\n      <td>8062</td>\n    </tr>\n    <tr>\n      <th>3</th>\n      <td>2487200875</td>\n      <td>20141209T000000</td>\n      <td>604000.0</td>\n      <td>4</td>\n      <td>3.00</td>\n      <td>1960</td>\n      <td>5000</td>\n      <td>1.0</td>\n      <td>0</td>\n      <td>0</td>\n      <td>...</td>\n      <td>7</td>\n      <td>1050</td>\n      <td>910</td>\n      <td>1965</td>\n      <td>0</td>\n      <td>98136</td>\n      <td>47.5208</td>\n      <td>-122.393</td>\n      <td>1360</td>\n      <td>5000</td>\n    </tr>\n    <tr>\n      <th>4</th>\n      <td>1954400510</td>\n      <td>20150218T000000</td>\n      <td>510000.0</td>\n      <td>3</td>\n      <td>2.00</td>\n      <td>1680</td>\n      <td>8080</td>\n      <td>1.0</td>\n      <td>0</td>\n      <td>0</td>\n      <td>...</td>\n      <td>8</td>\n      <td>1680</td>\n      <td>0</td>\n      <td>1987</td>\n      <td>0</td>\n      <td>98074</td>\n      <td>47.6168</td>\n      <td>-122.045</td>\n      <td>1800</td>\n      <td>7503</td>\n    </tr>\n  </tbody>\n</table>\n<p>5 rows × 21 columns</p>\n</div>"
     },
     "execution_count": 5,
     "metadata": {},
     "output_type": "execute_result"
    }
   ],
   "source": [
    "import pandas as pd\n",
    "import seaborn as sns\n",
    "\n",
    "df_houses_datas_prototype = pd.read_csv(\"../houses_datas.csv\")\n",
    "\n",
    "# Voir rapidement l'ensemble du fichiers avec les colonnes\n",
    "df_houses_datas_prototype.head()"
   ]
  },
  {
   "cell_type": "code",
   "execution_count": 10,
   "outputs": [
    {
     "data": {
      "text/plain": "               id             date      price  bedrooms  bathrooms  \\\n93     6021501535  20140725T000000   430000.0         3       1.50   \n94     6021501535  20141223T000000   700000.0         3       1.50   \n313    4139480200  20140618T000000  1384000.0         4       3.25   \n314    4139480200  20141209T000000  1400000.0         4       3.25   \n324    7520000520  20140905T000000   232000.0         2       1.00   \n...           ...              ...        ...       ...        ...   \n20670  8564860270  20150330T000000   502000.0         4       2.50   \n20779  6300000226  20140626T000000   240000.0         4       1.00   \n20780  6300000226  20150504T000000   380000.0         4       1.00   \n21580  7853420110  20141003T000000   594866.0         3       3.00   \n21581  7853420110  20150504T000000   625000.0         3       3.00   \n\n       sqft_living  sqft_lot  floors  waterfront  view  ...  grade  \\\n93            1580      5000     1.0           0     0  ...      8   \n94            1580      5000     1.0           0     0  ...      8   \n313           4290     12103     1.0           0     3  ...     11   \n314           4290     12103     1.0           0     3  ...     11   \n324           1240     12092     1.0           0     0  ...      6   \n...            ...       ...     ...         ...   ...  ...    ...   \n20670         2680      5539     2.0           0     0  ...      8   \n20779         1200      2171     1.5           0     0  ...      7   \n20780         1200      2171     1.5           0     0  ...      7   \n21580         2780      6000     2.0           0     0  ...      9   \n21581         2780      6000     2.0           0     0  ...      9   \n\n       sqft_above  sqft_basement  yr_built  yr_renovated  zipcode      lat  \\\n93           1290            290      1939             0    98117  47.6870   \n94           1290            290      1939             0    98117  47.6870   \n313          2690           1600      1997             0    98006  47.5503   \n314          2690           1600      1997             0    98006  47.5503   \n324           960            280      1922          1984    98146  47.4957   \n...           ...            ...       ...           ...      ...      ...   \n20670        2680              0      2013             0    98045  47.4759   \n20779        1200              0      1933             0    98133  47.7076   \n20780        1200              0      1933             0    98133  47.7076   \n21580        2780              0      2013             0    98065  47.5184   \n21581        2780              0      2013             0    98065  47.5184   \n\n          long  sqft_living15  sqft_lot15  \n93    -122.386           1570        4500  \n94    -122.386           1570        4500  \n313   -122.102           3860       11244  \n314   -122.102           3860       11244  \n324   -122.352           1820        7460  \n...        ...            ...         ...  \n20670 -121.734           2680        5992  \n20779 -122.342           1130        1598  \n20780 -122.342           1130        1598  \n21580 -121.886           2850        6000  \n21581 -121.886           2850        6000  \n\n[353 rows x 21 columns]",
      "text/html": "<div>\n<style scoped>\n    .dataframe tbody tr th:only-of-type {\n        vertical-align: middle;\n    }\n\n    .dataframe tbody tr th {\n        vertical-align: top;\n    }\n\n    .dataframe thead th {\n        text-align: right;\n    }\n</style>\n<table border=\"1\" class=\"dataframe\">\n  <thead>\n    <tr style=\"text-align: right;\">\n      <th></th>\n      <th>id</th>\n      <th>date</th>\n      <th>price</th>\n      <th>bedrooms</th>\n      <th>bathrooms</th>\n      <th>sqft_living</th>\n      <th>sqft_lot</th>\n      <th>floors</th>\n      <th>waterfront</th>\n      <th>view</th>\n      <th>...</th>\n      <th>grade</th>\n      <th>sqft_above</th>\n      <th>sqft_basement</th>\n      <th>yr_built</th>\n      <th>yr_renovated</th>\n      <th>zipcode</th>\n      <th>lat</th>\n      <th>long</th>\n      <th>sqft_living15</th>\n      <th>sqft_lot15</th>\n    </tr>\n  </thead>\n  <tbody>\n    <tr>\n      <th>93</th>\n      <td>6021501535</td>\n      <td>20140725T000000</td>\n      <td>430000.0</td>\n      <td>3</td>\n      <td>1.50</td>\n      <td>1580</td>\n      <td>5000</td>\n      <td>1.0</td>\n      <td>0</td>\n      <td>0</td>\n      <td>...</td>\n      <td>8</td>\n      <td>1290</td>\n      <td>290</td>\n      <td>1939</td>\n      <td>0</td>\n      <td>98117</td>\n      <td>47.6870</td>\n      <td>-122.386</td>\n      <td>1570</td>\n      <td>4500</td>\n    </tr>\n    <tr>\n      <th>94</th>\n      <td>6021501535</td>\n      <td>20141223T000000</td>\n      <td>700000.0</td>\n      <td>3</td>\n      <td>1.50</td>\n      <td>1580</td>\n      <td>5000</td>\n      <td>1.0</td>\n      <td>0</td>\n      <td>0</td>\n      <td>...</td>\n      <td>8</td>\n      <td>1290</td>\n      <td>290</td>\n      <td>1939</td>\n      <td>0</td>\n      <td>98117</td>\n      <td>47.6870</td>\n      <td>-122.386</td>\n      <td>1570</td>\n      <td>4500</td>\n    </tr>\n    <tr>\n      <th>313</th>\n      <td>4139480200</td>\n      <td>20140618T000000</td>\n      <td>1384000.0</td>\n      <td>4</td>\n      <td>3.25</td>\n      <td>4290</td>\n      <td>12103</td>\n      <td>1.0</td>\n      <td>0</td>\n      <td>3</td>\n      <td>...</td>\n      <td>11</td>\n      <td>2690</td>\n      <td>1600</td>\n      <td>1997</td>\n      <td>0</td>\n      <td>98006</td>\n      <td>47.5503</td>\n      <td>-122.102</td>\n      <td>3860</td>\n      <td>11244</td>\n    </tr>\n    <tr>\n      <th>314</th>\n      <td>4139480200</td>\n      <td>20141209T000000</td>\n      <td>1400000.0</td>\n      <td>4</td>\n      <td>3.25</td>\n      <td>4290</td>\n      <td>12103</td>\n      <td>1.0</td>\n      <td>0</td>\n      <td>3</td>\n      <td>...</td>\n      <td>11</td>\n      <td>2690</td>\n      <td>1600</td>\n      <td>1997</td>\n      <td>0</td>\n      <td>98006</td>\n      <td>47.5503</td>\n      <td>-122.102</td>\n      <td>3860</td>\n      <td>11244</td>\n    </tr>\n    <tr>\n      <th>324</th>\n      <td>7520000520</td>\n      <td>20140905T000000</td>\n      <td>232000.0</td>\n      <td>2</td>\n      <td>1.00</td>\n      <td>1240</td>\n      <td>12092</td>\n      <td>1.0</td>\n      <td>0</td>\n      <td>0</td>\n      <td>...</td>\n      <td>6</td>\n      <td>960</td>\n      <td>280</td>\n      <td>1922</td>\n      <td>1984</td>\n      <td>98146</td>\n      <td>47.4957</td>\n      <td>-122.352</td>\n      <td>1820</td>\n      <td>7460</td>\n    </tr>\n    <tr>\n      <th>...</th>\n      <td>...</td>\n      <td>...</td>\n      <td>...</td>\n      <td>...</td>\n      <td>...</td>\n      <td>...</td>\n      <td>...</td>\n      <td>...</td>\n      <td>...</td>\n      <td>...</td>\n      <td>...</td>\n      <td>...</td>\n      <td>...</td>\n      <td>...</td>\n      <td>...</td>\n      <td>...</td>\n      <td>...</td>\n      <td>...</td>\n      <td>...</td>\n      <td>...</td>\n      <td>...</td>\n    </tr>\n    <tr>\n      <th>20670</th>\n      <td>8564860270</td>\n      <td>20150330T000000</td>\n      <td>502000.0</td>\n      <td>4</td>\n      <td>2.50</td>\n      <td>2680</td>\n      <td>5539</td>\n      <td>2.0</td>\n      <td>0</td>\n      <td>0</td>\n      <td>...</td>\n      <td>8</td>\n      <td>2680</td>\n      <td>0</td>\n      <td>2013</td>\n      <td>0</td>\n      <td>98045</td>\n      <td>47.4759</td>\n      <td>-121.734</td>\n      <td>2680</td>\n      <td>5992</td>\n    </tr>\n    <tr>\n      <th>20779</th>\n      <td>6300000226</td>\n      <td>20140626T000000</td>\n      <td>240000.0</td>\n      <td>4</td>\n      <td>1.00</td>\n      <td>1200</td>\n      <td>2171</td>\n      <td>1.5</td>\n      <td>0</td>\n      <td>0</td>\n      <td>...</td>\n      <td>7</td>\n      <td>1200</td>\n      <td>0</td>\n      <td>1933</td>\n      <td>0</td>\n      <td>98133</td>\n      <td>47.7076</td>\n      <td>-122.342</td>\n      <td>1130</td>\n      <td>1598</td>\n    </tr>\n    <tr>\n      <th>20780</th>\n      <td>6300000226</td>\n      <td>20150504T000000</td>\n      <td>380000.0</td>\n      <td>4</td>\n      <td>1.00</td>\n      <td>1200</td>\n      <td>2171</td>\n      <td>1.5</td>\n      <td>0</td>\n      <td>0</td>\n      <td>...</td>\n      <td>7</td>\n      <td>1200</td>\n      <td>0</td>\n      <td>1933</td>\n      <td>0</td>\n      <td>98133</td>\n      <td>47.7076</td>\n      <td>-122.342</td>\n      <td>1130</td>\n      <td>1598</td>\n    </tr>\n    <tr>\n      <th>21580</th>\n      <td>7853420110</td>\n      <td>20141003T000000</td>\n      <td>594866.0</td>\n      <td>3</td>\n      <td>3.00</td>\n      <td>2780</td>\n      <td>6000</td>\n      <td>2.0</td>\n      <td>0</td>\n      <td>0</td>\n      <td>...</td>\n      <td>9</td>\n      <td>2780</td>\n      <td>0</td>\n      <td>2013</td>\n      <td>0</td>\n      <td>98065</td>\n      <td>47.5184</td>\n      <td>-121.886</td>\n      <td>2850</td>\n      <td>6000</td>\n    </tr>\n    <tr>\n      <th>21581</th>\n      <td>7853420110</td>\n      <td>20150504T000000</td>\n      <td>625000.0</td>\n      <td>3</td>\n      <td>3.00</td>\n      <td>2780</td>\n      <td>6000</td>\n      <td>2.0</td>\n      <td>0</td>\n      <td>0</td>\n      <td>...</td>\n      <td>9</td>\n      <td>2780</td>\n      <td>0</td>\n      <td>2013</td>\n      <td>0</td>\n      <td>98065</td>\n      <td>47.5184</td>\n      <td>-121.886</td>\n      <td>2850</td>\n      <td>6000</td>\n    </tr>\n  </tbody>\n</table>\n<p>353 rows × 21 columns</p>\n</div>"
     },
     "execution_count": 10,
     "metadata": {},
     "output_type": "execute_result"
    }
   ],
   "source": [
    "#df_houses_datas_prototype[\"id\"].duplicated().value_counts()\n",
    "df_houses_datas_prototype[df_houses_datas_prototype.duplicated(['id'], keep=False)]"
   ],
   "metadata": {
    "collapsed": false
   }
  }
 ],
 "metadata": {
  "kernelspec": {
   "display_name": "Python 3",
   "language": "python",
   "name": "python3"
  },
  "language_info": {
   "codemirror_mode": {
    "name": "ipython",
    "version": 2
   },
   "file_extension": ".py",
   "mimetype": "text/x-python",
   "name": "python",
   "nbconvert_exporter": "python",
   "pygments_lexer": "ipython2",
   "version": "2.7.6"
  }
 },
 "nbformat": 4,
 "nbformat_minor": 0
}
