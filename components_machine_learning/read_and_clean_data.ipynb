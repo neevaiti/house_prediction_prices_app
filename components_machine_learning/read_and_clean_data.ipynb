{
 "cells": [
  {
   "cell_type": "markdown",
   "source": [
    "# Clean datas csv"
   ],
   "metadata": {
    "collapsed": false
   }
  },
  {
   "cell_type": "code",
   "execution_count": null,
   "metadata": {
    "collapsed": true
   },
   "outputs": [],
   "source": [
    "import pandas as pd\n",
    "import seaborn as sns\n",
    "\n",
    "df_houses_datas_prototype = pd.read_csv(\"../houses_datas.csv\")\n",
    "\n",
    "# Voir rapidement l'ensemble du fichiers avec les colonnes\n",
    "df_houses_datas_prototype.head()"
   ]
  },
  {
   "cell_type": "markdown",
   "source": [
    "### Vérification des duplications"
   ],
   "metadata": {
    "collapsed": false
   }
  },
  {
   "cell_type": "code",
   "execution_count": null,
   "outputs": [],
   "source": [
    "#df_houses_datas_prototype[\"id\"].duplicated().value_counts()\n",
    "df_houses_datas_prototype[df_houses_datas_prototype.duplicated(['id'], keep=False)]"
   ],
   "metadata": {
    "collapsed": false
   }
  },
  {
   "cell_type": "markdown",
   "source": [
    "### Trie des dates par rapports aux Id et on garde les plus récentes"
   ],
   "metadata": {
    "collapsed": false
   }
  },
  {
   "cell_type": "code",
   "execution_count": null,
   "outputs": [],
   "source": [
    "df_houses_datas_prototype_without_duplicated = df_houses_datas_prototype.sort_values('date').drop_duplicates('id', keep='last')\n",
    "df_houses_datas_prototype_without_duplicated.head()"
   ],
   "metadata": {
    "collapsed": false
   }
  },
  {
   "cell_type": "markdown",
   "source": [
    "### Maintenant je veux changer le format des dates en quelque chose de plus lisible :"
   ],
   "metadata": {
    "collapsed": false
   }
  },
  {
   "cell_type": "code",
   "execution_count": null,
   "outputs": [],
   "source": [
    "# Au cas-où je reconverti la date\n",
    "df_houses_datas_prototype_without_duplicated['date'] = pd.to_datetime(df_houses_datas_prototype_without_duplicated['date'], format='%Y%m%dT%H%M%S')\n",
    "\n",
    "# Je veux seulement la date\n",
    "df_houses_datas_prototype_without_duplicated['date'] = df_houses_datas_prototype_without_duplicated['date'].dt.date"
   ],
   "metadata": {
    "collapsed": false
   }
  },
  {
   "cell_type": "code",
   "execution_count": null,
   "outputs": [],
   "source": [
    "df_houses_datas_prototype_without_duplicated.tail(30)"
   ],
   "metadata": {
    "collapsed": false
   }
  }
 ],
 "metadata": {
  "kernelspec": {
   "display_name": "Python 3",
   "language": "python",
   "name": "python3"
  },
  "language_info": {
   "codemirror_mode": {
    "name": "ipython",
    "version": 2
   },
   "file_extension": ".py",
   "mimetype": "text/x-python",
   "name": "python",
   "nbconvert_exporter": "python",
   "pygments_lexer": "ipython2",
   "version": "2.7.6"
  }
 },
 "nbformat": 4,
 "nbformat_minor": 0
}
